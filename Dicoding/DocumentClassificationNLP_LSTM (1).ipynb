{
  "nbformat": 4,
  "nbformat_minor": 0,
  "metadata": {
    "colab": {
      "name": "DocumentClassificationNLP-LSTM.ipynb",
      "provenance": [],
      "toc_visible": true
    },
    "kernelspec": {
      "name": "python3",
      "display_name": "Python 3"
    },
    "language_info": {
      "name": "python"
    }
  },
  "cells": [
    {
      "cell_type": "markdown",
      "metadata": {
        "id": "kolFDX85EPHr"
      },
      "source": [
        "#Klasifikasi Dokumen dengan LSTM"
      ]
    },
    {
      "cell_type": "markdown",
      "metadata": {
        "id": "YDbLNSnkD3Qf"
      },
      "source": [
        "Created by: Muammar Khadafi\n",
        "\n",
        "Dicoding username: muamkh\n",
        "\n",
        "Jumlah sampel text : 2225\n",
        "\n",
        "Jumlah class : 5\n",
        "\n",
        "train acc : 0.9972\n",
        "\n",
        "val acc : 0.9213"
      ]
    },
    {
      "cell_type": "code",
      "metadata": {
        "colab": {
          "base_uri": "https://localhost:8080/"
        },
        "id": "QeaJRwFtlyVq",
        "outputId": "0d62e087-b6ec-4840-c8ff-3b5ff08c350d"
      },
      "source": [
        "pip install nltk"
      ],
      "execution_count": null,
      "outputs": [
        {
          "output_type": "stream",
          "text": [
            "Requirement already satisfied: nltk in /usr/local/lib/python3.7/dist-packages (3.2.5)\n",
            "Requirement already satisfied: six in /usr/local/lib/python3.7/dist-packages (from nltk) (1.15.0)\n"
          ],
          "name": "stdout"
        }
      ]
    },
    {
      "cell_type": "code",
      "metadata": {
        "colab": {
          "base_uri": "https://localhost:8080/"
        },
        "id": "Wd-wUIrdlKCZ",
        "outputId": "4c594af8-1b06-49da-d5c7-9890b6cddd2c"
      },
      "source": [
        "import csv\n",
        "import tensorflow as tf\n",
        "import numpy as np\n",
        "from tensorflow.keras.preprocessing.text import Tokenizer\n",
        "from tensorflow.keras.preprocessing.sequence import pad_sequences\n",
        "import nltk\n",
        "import matplotlib.pyplot as plt\n",
        "nltk.download('stopwords')\n",
        "from nltk.corpus import stopwords\n",
        "STOPWORDS = set(stopwords.words('english'))\n",
        "\n",
        "print(tf.__version__)"
      ],
      "execution_count": null,
      "outputs": [
        {
          "output_type": "stream",
          "text": [
            "[nltk_data] Downloading package stopwords to /root/nltk_data...\n",
            "[nltk_data]   Unzipping corpora/stopwords.zip.\n",
            "2.5.0\n"
          ],
          "name": "stdout"
        }
      ]
    },
    {
      "cell_type": "code",
      "metadata": {
        "id": "eOROvlz7lrAE"
      },
      "source": [
        "vocab_size = 4000\n",
        "embedding_dim = 32\n",
        "max_length = 231\n",
        "trunc_type = 'post'\n",
        "padding_type = 'post'\n",
        "oov_tok = '<OOV>'\n",
        "training_portion = .8"
      ],
      "execution_count": null,
      "outputs": []
    },
    {
      "cell_type": "code",
      "metadata": {
        "colab": {
          "base_uri": "https://localhost:8080/"
        },
        "id": "aEO1AC_gmJCe",
        "outputId": "08b37cec-39ec-4832-8adb-5acc889fb8db"
      },
      "source": [
        "articles = []\n",
        "labels = []\n",
        "\n",
        "import requests\n",
        "\n",
        "CSV_URL = 'https://raw.githubusercontent.com/susanli2016/PyCon-Canada-2019-NLP-Tutorial/master/bbc-text.csv'\n",
        "\n",
        "\n",
        "with requests.Session() as s:\n",
        "    download = s.get(CSV_URL)\n",
        "\n",
        "    decoded_content = download.content.decode('utf-8')\n",
        "\n",
        "    reader = csv.reader(decoded_content.splitlines(), delimiter=',')\n",
        "    next(reader)\n",
        "    for row in reader:\n",
        "        labels.append(row[0])\n",
        "        article = row[1]\n",
        "        for word in STOPWORDS:\n",
        "            token = ' ' + word + ' '\n",
        "            article = article.replace(token, ' ')\n",
        "            article = article.replace(' ', ' ')\n",
        "        articles.append(article)\n",
        "print(len(labels))\n",
        "print(len(articles))"
      ],
      "execution_count": null,
      "outputs": [
        {
          "output_type": "stream",
          "text": [
            "2225\n",
            "2225\n"
          ],
          "name": "stdout"
        }
      ]
    },
    {
      "cell_type": "code",
      "metadata": {
        "colab": {
          "base_uri": "https://localhost:8080/"
        },
        "id": "ptfp1VFdmLEc",
        "outputId": "54d7020a-6842-4fa7-f445-88a9d3825a22"
      },
      "source": [
        "train_size = int(len(articles) * training_portion)\n",
        "\n",
        "train_articles = articles[0: train_size]\n",
        "train_labels = labels[0: train_size]\n",
        "\n",
        "validation_articles = articles[train_size:]\n",
        "validation_labels = labels[train_size:]\n",
        "\n",
        "print(train_size)\n",
        "print(len(train_articles))\n",
        "print(len(train_labels))\n",
        "print(len(validation_articles))\n",
        "print(len(validation_labels))"
      ],
      "execution_count": null,
      "outputs": [
        {
          "output_type": "stream",
          "text": [
            "1780\n",
            "1780\n",
            "1780\n",
            "445\n",
            "445\n"
          ],
          "name": "stdout"
        }
      ]
    },
    {
      "cell_type": "code",
      "metadata": {
        "colab": {
          "base_uri": "https://localhost:8080/"
        },
        "id": "6qvJpSoaoDwg",
        "outputId": "2d8db576-a5d8-4b85-e881-f5e679cd1c40"
      },
      "source": [
        "tokenizer = Tokenizer(num_words = vocab_size, oov_token=oov_tok)\n",
        "tokenizer.fit_on_texts(train_articles)\n",
        "word_index = tokenizer.word_index\n",
        "dict(list(word_index.items())[0:10])"
      ],
      "execution_count": null,
      "outputs": [
        {
          "output_type": "execute_result",
          "data": {
            "text/plain": [
              "{'<OOV>': 1,\n",
              " 'also': 6,\n",
              " 'mr': 3,\n",
              " 'new': 8,\n",
              " 'one': 10,\n",
              " 'people': 7,\n",
              " 'said': 2,\n",
              " 'us': 9,\n",
              " 'would': 4,\n",
              " 'year': 5}"
            ]
          },
          "metadata": {
            "tags": []
          },
          "execution_count": 53
        }
      ]
    },
    {
      "cell_type": "code",
      "metadata": {
        "colab": {
          "base_uri": "https://localhost:8080/"
        },
        "id": "znHBh2IpoKUT",
        "outputId": "7c2e19ef-86a5-4eab-86f6-2b9f81d86180"
      },
      "source": [
        "train_sequences = tokenizer.texts_to_sequences(train_articles)\n",
        "print(train_sequences[10])"
      ],
      "execution_count": null,
      "outputs": [
        {
          "output_type": "stream",
          "text": [
            "[2431, 1, 225, 1, 22, 641, 587, 225, 1, 1, 1, 1662, 1, 1, 2431, 22, 565, 1, 1, 140, 278, 1, 140, 278, 796, 823, 662, 2307, 1, 1144, 1693, 1, 1721, 1, 1, 1, 1, 1, 1, 1, 1, 1, 122, 1, 1, 2, 2874, 1505, 352, 1, 1, 52, 341, 1, 352, 2171, 3962, 41, 22, 3794, 1, 1, 1, 1, 543, 1, 1, 1, 835, 631, 2366, 347, 1, 1, 365, 22, 1, 787, 2367, 1, 1, 138, 10, 1, 3665, 682, 3531, 1, 22, 1, 414, 823, 662, 1, 90, 13, 633, 1, 225, 1, 1, 599, 1, 1693, 1021, 1, 1, 807, 1864, 117, 1, 1, 1, 2974, 22, 1, 99, 278, 1, 1606, 1, 543, 492, 1, 1444, 1, 778, 1320, 1, 1861, 10, 33, 641, 319, 1, 62, 478, 565, 301, 1506, 22, 479, 1, 1, 1665, 1, 797, 1, 3066, 1, 1364, 6, 1, 2431, 565, 22, 2971, 1, 1, 1, 1, 1, 1, 850, 39, 1825, 675, 297, 26, 979, 1, 882, 22, 361, 22, 13, 301, 1506, 1342, 374, 20, 63, 883, 1096, 1, 247]\n"
          ],
          "name": "stdout"
        }
      ]
    },
    {
      "cell_type": "code",
      "metadata": {
        "colab": {
          "base_uri": "https://localhost:8080/"
        },
        "id": "zJ0X_GAd_rOb",
        "outputId": "17148c91-d675-40bf-bbf7-2db46d30993c"
      },
      "source": [
        "a=0\n",
        "for i in range(len(train_sequences)):\n",
        "  a+=len(train_sequences[i])\n",
        "print(a/len(train_sequences))"
      ],
      "execution_count": null,
      "outputs": [
        {
          "output_type": "stream",
          "text": [
            "230.79606741573033\n"
          ],
          "name": "stdout"
        }
      ]
    },
    {
      "cell_type": "code",
      "metadata": {
        "colab": {
          "base_uri": "https://localhost:8080/"
        },
        "id": "8BShuE78ohwy",
        "outputId": "cb314e3f-2a43-4b6c-e785-2c03b1f28a17"
      },
      "source": [
        "train_padded = pad_sequences(train_sequences, maxlen=max_length, padding=padding_type, truncating=trunc_type)\n",
        "print(len(train_sequences[0]))\n",
        "print(len(train_padded[0]))\n",
        "\n",
        "print(len(train_sequences[1]))\n",
        "print(len(train_padded[1]))\n",
        "\n",
        "print(len(train_sequences[10]))\n",
        "print(len(train_padded[10]))"
      ],
      "execution_count": null,
      "outputs": [
        {
          "output_type": "stream",
          "text": [
            "425\n",
            "231\n",
            "192\n",
            "231\n",
            "186\n",
            "231\n"
          ],
          "name": "stdout"
        }
      ]
    },
    {
      "cell_type": "code",
      "metadata": {
        "colab": {
          "base_uri": "https://localhost:8080/"
        },
        "id": "c-YIWTKVojrZ",
        "outputId": "08bb95ae-909c-4b01-b711-3cf484e6a62a"
      },
      "source": [
        "print(train_padded[10])"
      ],
      "execution_count": null,
      "outputs": [
        {
          "output_type": "stream",
          "text": [
            "[2431    1  225    1   22  641  587  225    1    1    1 1662    1    1\n",
            " 2431   22  565    1    1  140  278    1  140  278  796  823  662 2307\n",
            "    1 1144 1693    1 1721    1    1    1    1    1    1    1    1    1\n",
            "  122    1    1    2 2874 1505  352    1    1   52  341    1  352 2171\n",
            " 3962   41   22 3794    1    1    1    1  543    1    1    1  835  631\n",
            " 2366  347    1    1  365   22    1  787 2367    1    1  138   10    1\n",
            " 3665  682 3531    1   22    1  414  823  662    1   90   13  633    1\n",
            "  225    1    1  599    1 1693 1021    1    1  807 1864  117    1    1\n",
            "    1 2974   22    1   99  278    1 1606    1  543  492    1 1444    1\n",
            "  778 1320    1 1861   10   33  641  319    1   62  478  565  301 1506\n",
            "   22  479    1    1 1665    1  797    1 3066    1 1364    6    1 2431\n",
            "  565   22 2971    1    1    1    1    1    1  850   39 1825  675  297\n",
            "   26  979    1  882   22  361   22   13  301 1506 1342  374   20   63\n",
            "  883 1096    1  247    0    0    0    0    0    0    0    0    0    0\n",
            "    0    0    0    0    0    0    0    0    0    0    0    0    0    0\n",
            "    0    0    0    0    0    0    0    0    0    0    0    0    0    0\n",
            "    0    0    0    0    0    0    0]\n"
          ],
          "name": "stdout"
        }
      ]
    },
    {
      "cell_type": "code",
      "metadata": {
        "colab": {
          "base_uri": "https://localhost:8080/"
        },
        "id": "tVVieDkAopY8",
        "outputId": "a41eb56d-a9c9-4ece-cd7c-d5cfd488caba"
      },
      "source": [
        "validation_sequences = tokenizer.texts_to_sequences(validation_articles)\n",
        "validation_padded = pad_sequences(validation_sequences, maxlen=max_length, padding=padding_type, truncating=trunc_type)\n",
        "\n",
        "print(len(validation_sequences))\n",
        "print(validation_padded.shape)"
      ],
      "execution_count": null,
      "outputs": [
        {
          "output_type": "stream",
          "text": [
            "445\n",
            "(445, 231)\n"
          ],
          "name": "stdout"
        }
      ]
    },
    {
      "cell_type": "code",
      "metadata": {
        "colab": {
          "base_uri": "https://localhost:8080/"
        },
        "id": "8O2I8auDorPh",
        "outputId": "bd322939-65d5-4893-aeaf-5fd4c7d09f80"
      },
      "source": [
        "label_tokenizer = Tokenizer()\n",
        "label_tokenizer.fit_on_texts(labels)\n",
        "\n",
        "training_label_seq = np.array(label_tokenizer.texts_to_sequences(train_labels))\n",
        "validation_label_seq = np.array(label_tokenizer.texts_to_sequences(validation_labels))\n",
        "print(training_label_seq[0])\n",
        "print(training_label_seq[1])\n",
        "print(training_label_seq[2])\n",
        "print(training_label_seq.shape)\n",
        "\n",
        "print(validation_label_seq[0])\n",
        "print(validation_label_seq[1])\n",
        "print(validation_label_seq[2])\n",
        "print(validation_label_seq.shape)"
      ],
      "execution_count": null,
      "outputs": [
        {
          "output_type": "stream",
          "text": [
            "[4]\n",
            "[2]\n",
            "[1]\n",
            "(1780, 1)\n",
            "[5]\n",
            "[4]\n",
            "[3]\n",
            "(445, 1)\n"
          ],
          "name": "stdout"
        }
      ]
    },
    {
      "cell_type": "code",
      "metadata": {
        "colab": {
          "base_uri": "https://localhost:8080/"
        },
        "id": "zj2YsFFFowPP",
        "outputId": "322d0e99-255f-4f94-8784-0bad01b0dc97"
      },
      "source": [
        "reverse_word_index = dict([(value, key) for (key, value) in word_index.items()])\n",
        "\n",
        "def decode_article(text):\n",
        "    return ' '.join([reverse_word_index.get(i, '?') for i in text])\n",
        "print(decode_article(train_padded[10]))\n",
        "print('---')\n",
        "print(train_articles[10])"
      ],
      "execution_count": null,
      "outputs": [
        {
          "output_type": "stream",
          "text": [
            "berlin <OOV> anti <OOV> film german movie anti <OOV> <OOV> <OOV> drawn <OOV> <OOV> berlin film festival <OOV> <OOV> final days <OOV> final days member white rose movement <OOV> 21 arrested <OOV> brother <OOV> <OOV> <OOV> <OOV> <OOV> <OOV> <OOV> <OOV> <OOV> director <OOV> <OOV> said feeling responsibility keep <OOV> <OOV> going must <OOV> keep ideas alive added film drew <OOV> <OOV> <OOV> <OOV> trial <OOV> <OOV> <OOV> east germany secret police <OOV> <OOV> behind film <OOV> worked closely <OOV> <OOV> including one <OOV> sisters ensure historical <OOV> film <OOV> members white rose <OOV> group first started <OOV> anti <OOV> <OOV> summer <OOV> arrested dropped <OOV> <OOV> university calling day <OOV> <OOV> <OOV> regime film <OOV> six days <OOV> arrest <OOV> trial saw <OOV> initially <OOV> charges ended <OOV> appearance one three german films <OOV> top prize festival south african film version <OOV> <OOV> opera <OOV> shot <OOV> town <OOV> language also <OOV> berlin festival film entitled <OOV> <OOV> <OOV> <OOV> <OOV> <OOV> story set performed 40 strong music theatre <OOV> debut film performance film first south african feature 25 years second nominated golden <OOV> award ? ? ? ? ? ? ? ? ? ? ? ? ? ? ? ? ? ? ? ? ? ? ? ? ? ? ? ? ? ? ? ? ? ? ? ? ? ? ? ? ? ? ? ? ?\n",
            "---\n",
            "berlin cheers anti-nazi film german movie anti-nazi resistance heroine drawn loud applause berlin film festival.  sophie scholl - final days portrays final days member white rose movement. scholl  21  arrested beheaded brother  hans  1943 distributing leaflets condemning  abhorrent tyranny  adolf hitler. director marc rothemund said:  feeling responsibility keep legacy scholls going.   must somehow keep ideas alive   added.  film drew transcripts gestapo interrogations scholl trial preserved archive communist east germany secret police. discovery inspiration behind film rothemund  worked closely surviving relatives  including one scholl sisters  ensure historical accuracy film. scholl members white rose resistance group first started distributing anti-nazi leaflets summer 1942. arrested dropped leaflets munich university calling  day reckoning  adolf hitler regime. film focuses six days scholl arrest intense trial saw scholl initially deny charges ended defiant appearance. one three german films vying top prize festival.  south african film version bizet tragic opera carmen shot cape town xhosa language also premiered berlin festival. film entitled u-carmen ekhayelitsha carmen khayelitsha township story set. performed 40-strong music theatre troupe debut film performance. film first south african feature 25 years second nominated golden bear award.\n"
          ],
          "name": "stdout"
        }
      ]
    },
    {
      "cell_type": "code",
      "metadata": {
        "id": "-siMvd2xu62I"
      },
      "source": [
        "class callBack(tf.keras.callbacks.Callback):\n",
        "    def on_epoch_end(self, epoch, logs={}):\n",
        "        if (logs.get('loss') <= 0.02):\n",
        "            print()\n",
        "            print(\"Training di stop karena loss sudah kurang dari 0.02\")\n",
        "            self.model.stop_training = True\n",
        "callbacks = callBack()"
      ],
      "execution_count": null,
      "outputs": []
    },
    {
      "cell_type": "code",
      "metadata": {
        "colab": {
          "base_uri": "https://localhost:8080/"
        },
        "id": "0lTChvOdoyrt",
        "outputId": "ff97dcd0-0fa0-48c7-b585-53e84ab976d7"
      },
      "source": [
        "model = tf.keras.Sequential([\n",
        "    tf.keras.layers.Embedding(vocab_size, embedding_dim),\n",
        "    tf.keras.layers.Bidirectional(tf.keras.layers.LSTM(embedding_dim)),\n",
        "    tf.keras.layers.Dense(embedding_dim, activation='relu'),\n",
        "    tf.keras.layers.Dense(6, activation='softmax')\n",
        "])\n",
        "model.summary()"
      ],
      "execution_count": null,
      "outputs": [
        {
          "output_type": "stream",
          "text": [
            "Model: \"sequential_2\"\n",
            "_________________________________________________________________\n",
            "Layer (type)                 Output Shape              Param #   \n",
            "=================================================================\n",
            "embedding_2 (Embedding)      (None, None, 32)          128000    \n",
            "_________________________________________________________________\n",
            "bidirectional_2 (Bidirection (None, 64)                16640     \n",
            "_________________________________________________________________\n",
            "dense_4 (Dense)              (None, 32)                2080      \n",
            "_________________________________________________________________\n",
            "dense_5 (Dense)              (None, 6)                 198       \n",
            "=================================================================\n",
            "Total params: 146,918\n",
            "Trainable params: 146,918\n",
            "Non-trainable params: 0\n",
            "_________________________________________________________________\n"
          ],
          "name": "stdout"
        }
      ]
    },
    {
      "cell_type": "code",
      "metadata": {
        "colab": {
          "base_uri": "https://localhost:8080/"
        },
        "id": "rIU6a92uo1W4",
        "outputId": "daa69c27-549a-42a1-fda8-2ef67ccfc81f"
      },
      "source": [
        "print(set(labels))"
      ],
      "execution_count": null,
      "outputs": [
        {
          "output_type": "stream",
          "text": [
            "{'business', 'entertainment', 'sport', 'politics', 'tech'}\n"
          ],
          "name": "stdout"
        }
      ]
    },
    {
      "cell_type": "code",
      "metadata": {
        "colab": {
          "base_uri": "https://localhost:8080/"
        },
        "id": "7Wy5fG0jo32J",
        "outputId": "de85eb40-3fb3-4856-8683-9547d2723f3d"
      },
      "source": [
        "model.compile(loss='sparse_categorical_crossentropy', optimizer='adam', metrics=['accuracy'])\n",
        "num_epochs = 20\n",
        "history = model.fit(train_padded, training_label_seq, epochs=num_epochs, validation_data=(validation_padded, validation_label_seq), verbose=2, callbacks=[callbacks])"
      ],
      "execution_count": null,
      "outputs": [
        {
          "output_type": "stream",
          "text": [
            "Epoch 1/20\n",
            "56/56 - 12s - loss: 1.6689 - accuracy: 0.2539 - val_loss: 1.4199 - val_accuracy: 0.4652\n",
            "Epoch 2/20\n",
            "56/56 - 8s - loss: 1.1346 - accuracy: 0.5202 - val_loss: 0.9394 - val_accuracy: 0.6090\n",
            "Epoch 3/20\n",
            "56/56 - 8s - loss: 0.9074 - accuracy: 0.5500 - val_loss: 0.9259 - val_accuracy: 0.6831\n",
            "Epoch 4/20\n",
            "56/56 - 8s - loss: 0.6889 - accuracy: 0.7865 - val_loss: 0.6382 - val_accuracy: 0.8022\n",
            "Epoch 5/20\n",
            "56/56 - 8s - loss: 0.3510 - accuracy: 0.8966 - val_loss: 0.3607 - val_accuracy: 0.8742\n",
            "Epoch 6/20\n",
            "56/56 - 8s - loss: 0.1979 - accuracy: 0.9624 - val_loss: 0.3227 - val_accuracy: 0.9034\n",
            "Epoch 7/20\n",
            "56/56 - 8s - loss: 0.1047 - accuracy: 0.9809 - val_loss: 0.2910 - val_accuracy: 0.9034\n",
            "Epoch 8/20\n",
            "56/56 - 8s - loss: 0.0509 - accuracy: 0.9910 - val_loss: 0.3002 - val_accuracy: 0.9079\n",
            "Epoch 9/20\n",
            "56/56 - 8s - loss: 0.0231 - accuracy: 0.9983 - val_loss: 0.2906 - val_accuracy: 0.9124\n",
            "Epoch 10/20\n",
            "56/56 - 8s - loss: 0.0167 - accuracy: 0.9972 - val_loss: 0.2570 - val_accuracy: 0.9213\n",
            "\n",
            "Training di stop karena loss sudah kurang dari 0.02\n"
          ],
          "name": "stdout"
        }
      ]
    },
    {
      "cell_type": "code",
      "metadata": {
        "colab": {
          "base_uri": "https://localhost:8080/",
          "height": 545
        },
        "id": "3ANBQouSo8VM",
        "outputId": "ac9768f2-17de-44a9-9759-b6f20a260f4e"
      },
      "source": [
        "def plot_graphs(history, string):\n",
        "  plt.plot(history.history[string])\n",
        "  plt.plot(history.history['val_'+string])\n",
        "  plt.xlabel(\"Epochs\")\n",
        "  plt.ylabel(string)\n",
        "  plt.legend([string, 'val_'+string])\n",
        "  plt.show()\n",
        "  \n",
        "plot_graphs(history, \"accuracy\")\n",
        "plot_graphs(history, \"loss\")"
      ],
      "execution_count": null,
      "outputs": [
        {
          "output_type": "display_data",
          "data": {
            "image/png": "[encoded data removed]",
            "text/plain": [
              "<Figure size 432x288 with 1 Axes>"
            ]
          },
          "metadata": {
            "tags": [],
            "needs_background": "light"
          }
        },
        {
          "output_type": "display_data",
          "data": {
            "image/png": "[encoded data removed]",
            "text/plain": [
              "<Figure size 432x288 with 1 Axes>"
            ]
          },
          "metadata": {
            "tags": [],
            "needs_background": "light"
          }
        }
      ]
    },
    {
      "cell_type": "code",
      "metadata": {
        "id": "8XlsX8Mno_FG"
      },
      "source": [
        ""
      ],
      "execution_count": null,
      "outputs": []
    }
  ]
}